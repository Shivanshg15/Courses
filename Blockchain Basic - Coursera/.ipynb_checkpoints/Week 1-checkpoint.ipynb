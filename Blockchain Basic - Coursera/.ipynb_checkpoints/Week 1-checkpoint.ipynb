{
 "cells": [
  {
   "cell_type": "markdown",
   "metadata": {},
   "source": [
    "Ques. What is the genesis block\n",
    "\n",
    "Ans. The first block of a Blockchain "
   ]
  },
  {
   "cell_type": "markdown",
   "metadata": {},
   "source": [
    "Ques. Inspect and explore block #0 using this link to solve the below question.\n",
    "   \n",
    "    How many transactions are there in the Genesis block in Bitcoin?\n",
    "\n",
    " Ans. 1\n"
   ]
  },
  {
   "cell_type": "markdown",
   "metadata": {},
   "source": [
    "Ques. Inspect and explore block #0 using this link to solve the below question.\n",
    "\n",
    "    How many transactions are there in the Genesis block in Ethereum (other than the transaction for Miner fee)?\n",
    "\n",
    "Ans. 8893"
   ]
  },
  {
   "cell_type": "markdown",
   "metadata": {},
   "source": [
    "Ques. Inspect and explore block #490624 using this link to solve the below question.\n",
    "\n",
    "    What is the hash of the previous block for Bitcoin block #490624? Copy and paste the answer into the box below.\n",
    "\n",
    "Ans. 000000000000000000d4c8b9d5388e42bf084e29546357c63cba8324ed4ec8bf"
   ]
  },
  {
   "cell_type": "markdown",
   "metadata": {},
   "source": [
    "Ques. Inspect and explore block #490624 using this link to solve the below question.\n",
    "\n",
    "    Which of these fields is present in a Bitcoin block summary?\n",
    "    \n",
    "Ans. Difficulty"
   ]
  },
  {
   "cell_type": "markdown",
   "metadata": {},
   "source": [
    "Ques. Where are the transactions recorded in a blockchain?\n",
    "\n",
    "Ans. On a distributed immutable ledger"
   ]
  },
  {
   "cell_type": "markdown",
   "metadata": {},
   "source": [
    "Ques. What are UTXOs in a Bitcoin Blockchain?\n",
    "\n",
    "Ans. These form the inputs and outputs of transactions"
   ]
  },
  {
   "cell_type": "markdown",
   "metadata": {},
   "source": [
    "Ques. Blockchain was created to support security and trust in a ___________ environment of the cryptocurrency Bitcoin.\n",
    "\n",
    "Ans. Decentralized trustless"
   ]
  },
  {
   "cell_type": "markdown",
   "metadata": {},
   "source": [
    "Ques. What/Who are miners in a blockchain?\n",
    "\n",
    "Ans. Computers that validate and process the blockchain transactions and solve the cryptographic puzzle to add new blocks"
   ]
  },
  {
   "cell_type": "code",
   "execution_count": null,
   "metadata": {},
   "outputs": [],
   "source": []
  }
 ],
 "metadata": {
  "kernelspec": {
   "display_name": "Python 3",
   "language": "python",
   "name": "python3"
  },
  "language_info": {
   "codemirror_mode": {
    "name": "ipython",
    "version": 3
   },
   "file_extension": ".py",
   "mimetype": "text/x-python",
   "name": "python",
   "nbconvert_exporter": "python",
   "pygments_lexer": "ipython3",
   "version": "3.7.2"
  }
 },
 "nbformat": 4,
 "nbformat_minor": 4
}
