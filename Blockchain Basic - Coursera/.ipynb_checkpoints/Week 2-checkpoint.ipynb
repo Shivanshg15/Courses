{
 "cells": [
  {
   "cell_type": "markdown",
   "metadata": {},
   "source": [
    "Ques. Inspect and explore block #4390176 using this link to solve the below question.\n",
    "    \n",
    "    What is the previous block hash of block #4390176 in Ethereum Blockchain? Provide the answer in the box below.\n",
    "\n",
    "Ans. 0xc253f0917b33b2947b4d9cdb7ad656cc0233ef1781984384284f3a91810a8a36"
   ]
  },
  {
   "cell_type": "markdown",
   "metadata": {},
   "source": [
    "Ques. Inspect and explore block #4390176 using this link to solve the below question.\n",
    "\n",
    "    What is the total difficulty for block #4390176 in Ethereum Blockchain? Provide the answer in the box below.\n",
    "\n",
    "Ans. 1,226,797,074,502,984,598,563"
   ]
  },
  {
   "cell_type": "markdown",
   "metadata": {},
   "source": [
    "Ques. Inspect and explore the transaction with the hash “0x5edb69874d0900d8857468fbe53715cc1a58137709b8b70e46299bf10983dc09“ using this link.\n",
    "\n",
    "    Approximately, how many Ethers are transferred in this transaction?\n",
    "\n",
    "Ans. 913.268"
   ]
  },
  {
   "cell_type": "markdown",
   "metadata": {},
   "source": [
    "Ques. Inspect and explore the transaction with the hash “0x5edb69874d0900d8857468fbe53715cc1a58137709b8b70e46299bf10983dc09“ using this link.\n",
    "\n",
    "    What is the address of the sender in this transaction? Provide the answer below in the textbox.\n",
    "\n",
    "Ans. 0xf9fba58d8345bd3100c5adf3b8b51938e5da0a9d"
   ]
  },
  {
   "cell_type": "markdown",
   "metadata": {},
   "source": [
    "Ques. Which of the following is true about an externally owned account (EOA) in Ethereum Homestead?\n",
    "\n",
    "Ans. EOAs can send transactions (ether transfer or invoke a contract code)"
   ]
  },
  {
   "cell_type": "markdown",
   "metadata": {},
   "source": [
    "Ques. External Owned Accounts (EOA) are controlled by ____.\n",
    "\n",
    "Ans. Private Key"
   ]
  },
  {
   "cell_type": "markdown",
   "metadata": {},
   "source": [
    "Ques. What is the differentiating factor between the Ethereum Blockchain and the Bitcoin blockchain?\n",
    "\n",
    "Ans. Smart contracts"
   ]
  },
  {
   "cell_type": "markdown",
   "metadata": {},
   "source": [
    "Ques. Calculate the amount of gas points required to execute an operation that involves 2 steps and 1 load from memory. Use the following image.\n",
    "\n",
    "Ans. 22"
   ]
  },
  {
   "cell_type": "markdown",
   "metadata": {},
   "source": [
    "Ques. What is the correct sequence involved in a block creation:\n",
    "\n",
    "    1. Transactions validated\n",
    "\n",
    "    2. Transactions Bundled & broadcasted\n",
    "\n",
    "    3. Transaction initiated\n",
    "\n",
    "    4. Block added to the local chain and propagated to the network.\n",
    "\n",
    "    5. Proof of work consensus problem solved\n",
    "\n",
    "\n",
    "Ans. 3,1,2,5,4\n"
   ]
  },
  {
   "cell_type": "code",
   "execution_count": null,
   "metadata": {},
   "outputs": [],
   "source": []
  }
 ],
 "metadata": {
  "kernelspec": {
   "display_name": "Python 3",
   "language": "python",
   "name": "python3"
  },
  "language_info": {
   "codemirror_mode": {
    "name": "ipython",
    "version": 3
   },
   "file_extension": ".py",
   "mimetype": "text/x-python",
   "name": "python",
   "nbconvert_exporter": "python",
   "pygments_lexer": "ipython3",
   "version": "3.7.2"
  }
 },
 "nbformat": 4,
 "nbformat_minor": 4
}
